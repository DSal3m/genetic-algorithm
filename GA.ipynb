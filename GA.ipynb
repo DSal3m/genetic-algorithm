{
 "cells": [
  {
   "cell_type": "code",
   "execution_count": 50,
   "id": "8806d704",
   "metadata": {},
   "outputs": [],
   "source": [
    "from typing import Union, List, Tuple\n",
    "import numpy as np"
   ]
  },
  {
   "cell_type": "code",
   "execution_count": 51,
   "id": "87c4ea4a",
   "metadata": {},
   "outputs": [],
   "source": [
    "with open('input.txt') as f:\n",
    "    n = int(f.readline()) # количество задач\n",
    "    task_rate = [int(task) for task in f.readline().split()] #N целых чисел от 1 до 4 категорий сложности задач\n",
    "    estimated_task_time = [float(estimate) for estimate in f.readline().split()] # N вещественных положительных чисел оценочного времени для задач\n",
    "    slaves_count = int(f.readline()) # целое число M, количество разработчиков\n",
    "    slaves_task_coeffs = [list(map(float, f.readline().split())) for _ in range(slaves_count)] # M строк содержат по 4 вещественных положительных числа — коэффициенты каждого разработчика."
   ]
  },
  {
   "cell_type": "code",
   "execution_count": 52,
   "id": "e9cf8210",
   "metadata": {},
   "outputs": [],
   "source": [
    "class GeneticAlgorithm:\n",
    "    rng = np.random.default_rng()\n",
    "    def __init__(\n",
    "        self,\n",
    "        task_rate: Union[List[int], np.ndarray],\n",
    "        estimated_task_time: Union[List[float], np.ndarray],\n",
    "        slaves_count: int,\n",
    "        slaves_task_coeffs: Union[List[List[float]], np.ndarray],\n",
    "        population_size: int = 100,\n",
    "        n_offspring: int = 2,\n",
    "        n_crossover: int = 3,\n",
    "        mutation_probability: int = 0.90,\n",
    "    ):\n",
    "        self.population_size = population_size\n",
    "        self.n_offspring = n_offspring\n",
    "        self.n_crossover = n_crossover\n",
    "        self.slaves_count = slaves_count\n",
    "        self.mutation_probability = mutation_probability\n",
    "        self.task_rate = np.array(task_rate)\n",
    "        self.estimated_task_time = np.array(estimated_task_time)\n",
    "        self.slaves_task_coeffs = np.array(slaves_task_coeffs)\n",
    "        # calculation\n",
    "        self.slaves_indexes = np.arange(self.slaves_count)\n",
    "        self.task_count = len(self.task_rate)\n",
    "        self.slaves_time_on_each_task = self.map_task_time()\n",
    "        self._population = self.create_population()\n",
    "        self._fitness = self.fitness()\n",
    "        self.best_project_time, self.best_distribution = self.get_best_result()\n",
    "\n",
    "    def create_population(self) -> np.ndarray:\n",
    "        return np.array(\n",
    "            [GeneticAlgorithm.rng.choice(self.slaves_indexes, size=self.task_count) for _ in range(self.population_size)]\n",
    "        )\n",
    "\n",
    "    def map_task_time(self) -> np.ndarray:\n",
    "        return self.estimated_task_time * [\n",
    "            np.array([coeff[task - 1] for task in self.task_rate]) for coeff in slaves_task_coeffs\n",
    "        ]\n",
    "\n",
    "    def get_best_result(self) -> Tuple[float, np.ndarray]:\n",
    "        return np.max(self._fitness), self._population[np.argmax(self._fitness)]\n",
    "\n",
    "    def selection(self) -> np.ndarray:\n",
    "        new_idxs = np.argsort(self._fitness)[-self.n_offspring :]\n",
    "        self._population = self._population[new_idxs]\n",
    "        self._fitness = self._fitness[new_idxs]\n",
    "        return new_idxs\n",
    "    \n",
    "    def crossover(self) -> None:\n",
    "        def single_point_crossover(a: np.ndarray, b: np.ndarray, point: int) -> Tuple[np.ndarray, np.ndarray]:\n",
    "            return (np.hstack((a[:point], b[point:])), np.hstack((b[:point], a[point:])))\n",
    "\n",
    "        self.new = np.zeros((self.population_size - self._population.shape[0], self.task_count), dtype=int)\n",
    "        for i in range(len(self.new)):\n",
    "            a, b = self.rng.choice(self._population.shape[0], size=2, replace=False)\n",
    "            point = self.rng.integers(low=0, high=self.task_count)\n",
    "            a_, b_ = single_point_crossover(self._population[a], self._population[b], point)\n",
    "            self.new[i] = self.rng.choice([a_, b_], size=1)\n",
    "\n",
    "    def mutation(self) -> None:\n",
    "        p = GeneticAlgorithm.rng.random(size=self.new.shape[0]) < self.mutation_probability\n",
    "        for i, p in zip(np.arange(self.new.shape[0]), p):\n",
    "            if p:\n",
    "                slave = GeneticAlgorithm.rng.choice(self.slaves_indexes, size=2)\n",
    "                task = GeneticAlgorithm.rng.integers(low=0, high=self.task_count - 1, size=2)\n",
    "                self.new[i, task] = slave\n",
    "\n",
    "    def run(self) -> None:\n",
    "        self.selection()\n",
    "        self.crossover()\n",
    "        self.mutation()\n",
    "        self._population = np.concatenate([self._population, self.new], axis=0)\n",
    "        self._fitness = self.fitness()\n",
    "        time, dist = self.get_best_result()\n",
    "        if time > self.best_project_time:\n",
    "            self.best_project_time, self.best_distribution = time, dist\n",
    "\n",
    "    def fitness(self) -> np.ndarray:\n",
    "        result = np.zeros(self.population_size)\n",
    "        for individual in range(self.population_size):\n",
    "            individual_result = np.zeros(self.slaves_count)\n",
    "            for slave in self.slaves_indexes:\n",
    "                task_indexes = np.where(self._population[individual] == slave)[0]\n",
    "                individual_result[slave] = np.sum(self.slaves_time_on_each_task[slave, task_indexes])\n",
    "            result[individual] = 10 ** 6 / np.max(individual_result)\n",
    "        return result\n",
    "    "
   ]
  },
  {
   "cell_type": "code",
   "execution_count": 53,
   "id": "83645a53",
   "metadata": {},
   "outputs": [],
   "source": [
    "ga = GeneticAlgorithm(task_rate, estimated_task_time, slaves_count, slaves_task_coeffs)"
   ]
  },
  {
   "cell_type": "code",
   "execution_count": 54,
   "id": "cc1e2fa9",
   "metadata": {},
   "outputs": [],
   "source": [
    "for i in range(100):\n",
    "  ga.run()"
   ]
  },
  {
   "cell_type": "code",
   "execution_count": 55,
   "id": "9de0cbb2",
   "metadata": {},
   "outputs": [],
   "source": [
    "with open('output.txt', 'w') as f:\n",
    "    f.write(' '.join(map(str, ga.best_distribution + 1)))\n",
    "    "
   ]
  },
  {
   "cell_type": "code",
   "execution_count": null,
   "id": "ccdaa777",
   "metadata": {},
   "outputs": [],
   "source": []
  },
  {
   "cell_type": "code",
   "execution_count": null,
   "id": "0d6f8440",
   "metadata": {},
   "outputs": [],
   "source": []
  }
 ],
 "metadata": {
  "kernelspec": {
   "display_name": "Python 3 (ipykernel)",
   "language": "python",
   "name": "python3"
  },
  "language_info": {
   "codemirror_mode": {
    "name": "ipython",
    "version": 3
   },
   "file_extension": ".py",
   "mimetype": "text/x-python",
   "name": "python",
   "nbconvert_exporter": "python",
   "pygments_lexer": "ipython3",
   "version": "3.9.13"
  }
 },
 "nbformat": 4,
 "nbformat_minor": 5
}
